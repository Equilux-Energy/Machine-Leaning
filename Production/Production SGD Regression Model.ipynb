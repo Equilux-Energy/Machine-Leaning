{
 "cells": [
  {
   "cell_type": "code",
   "execution_count": null,
   "metadata": {
    "executionInfo": {
     "elapsed": 5001,
     "status": "ok",
     "timestamp": 1741431379945,
     "user": {
      "displayName": "Wafic Alayli",
      "userId": "07899968617561207057"
     },
     "user_tz": -120
    },
    "id": "zstbrMPi7RX9"
   },
   "outputs": [],
   "source": [
    "import joblib\n",
    "import pandas as pd\n",
    "import numpy as np\n",
    "import matplotlib.pyplot as plt\n",
    "from sklearn.linear_model import SGDRegressor\n",
    "from sklearn.model_selection import train_test_split\n",
    "\n",
    "from sklearn.metrics import accuracy_score\n",
    "from sklearn.metrics import r2_score\n",
    "from sklearn.metrics import mean_squared_error\n",
    "from sklearn.metrics import mean_absolute_error\n",
    "\n",
    "from sklearn.impute import SimpleImputer\n",
    "from sklearn.model_selection import GridSearchCV\n",
    "from sklearn.pipeline import make_pipeline\n",
    "from sklearn.preprocessing import StandardScaler\n",
    "from datetime import datetime"
   ]
  },
  {
   "cell_type": "code",
   "execution_count": null,
   "metadata": {
    "colab": {
     "base_uri": "https://localhost:8080/",
     "height": 260
    },
    "executionInfo": {
     "elapsed": 1062,
     "status": "ok",
     "timestamp": 1741431406835,
     "user": {
      "displayName": "Wafic Alayli",
      "userId": "07899968617561207057"
     },
     "user_tz": -120
    },
    "id": "7yjxyZMx7egN",
    "outputId": "bc0413b6-8897-49dd-ed57-6eedbad313d6"
   },
   "outputs": [],
   "source": [
    "scaler = joblib.load('production_scaler.pkl')\n",
    "print(\"Scaler loaded \\n\\n\")\n",
    "\n",
    "df = pd.read_csv('production_dataset.csv')\n",
    "# df = df.drop(columns=['Year'])\n",
    "df = df.dropna()\n",
    "df.head()"
   ]
  },
  {
   "cell_type": "code",
   "execution_count": null,
   "metadata": {
    "colab": {
     "base_uri": "https://localhost:8080/"
    },
    "executionInfo": {
     "elapsed": 5370,
     "status": "ok",
     "timestamp": 1741431412207,
     "user": {
      "displayName": "Wafic Alayli",
      "userId": "07899968617561207057"
     },
     "user_tz": -120
    },
    "id": "z5hOfXJj7uas",
    "outputId": "605c5f75-ef6d-4a82-ce0f-1a1c09c77eb9"
   },
   "outputs": [],
   "source": [
    "feature_columns = ['Day','Month', 'Hour', 'WindSpeed', 'Sunshine', 'AirPressure', 'Radiation', 'AirTemperature', 'RelativeAirHumidity']\n",
    "X = df[feature_columns]\n",
    "y = df['SystemProduction']\n",
    "X_train, X_test, y_train, y_test = train_test_split(X, y, test_size=0.2, random_state=42)\n",
    "\n",
    "sgd_model = SGDRegressor(random_state=42, warm_start=True)\n",
    "\n",
    "param_grid = {\n",
    "    'alpha': [0.0001],\n",
    "    'eta0': [0.01],\n",
    "    'penalty': ['elasticnet'],\n",
    "    'max_iter': [1000],\n",
    "    'tol': [1e-5],  # Stopping tolerance\n",
    "    'power_t': [0.25],  # Learning rate schedule parameter\n",
    "    'l1_ratio': [0.85]  # Only used for 'elasticnet' penalty\n",
    "}\n",
    "\n",
    "\n",
    "\n",
    "grid_search = GridSearchCV(sgd_model, param_grid, cv=5, scoring='r2', n_jobs=-1)\n",
    "grid_search.fit(X_train, y_train)\n",
    "\n",
    "best_model = grid_search.best_estimator_\n",
    "\n",
    "print(\"Best Parameters from GridSearchCV:\", grid_search.best_params_)\n"
   ]
  },
  {
   "cell_type": "code",
   "execution_count": null,
   "metadata": {
    "colab": {
     "base_uri": "https://localhost:8080/"
    },
    "executionInfo": {
     "elapsed": 22,
     "status": "ok",
     "timestamp": 1741431412231,
     "user": {
      "displayName": "Wafic Alayli",
      "userId": "07899968617561207057"
     },
     "user_tz": -120
    },
    "id": "syCzff6C9J8t",
    "outputId": "447de5e3-f5ea-440e-f92f-27c9a4ba142d"
   },
   "outputs": [],
   "source": [
    "batch_size = 2000\n",
    "n_batches = len(X_train) // batch_size\n",
    "\n",
    "for i in range(n_batches):\n",
    "    start_idx = i * batch_size\n",
    "    end_idx = start_idx + batch_size\n",
    "    X_batch = X_train.iloc[start_idx:end_idx]\n",
    "    y_batch = y_train.iloc[start_idx:end_idx]\n",
    "\n",
    "    X_batch = X_batch[feature_columns]\n",
    "\n",
    "    best_model.partial_fit(X_batch[feature_columns], y_batch) # ensure all features are used in training\n",
    "    print(f\"Batch {i+1}/{n_batches} fitted\")\n",
    "\n",
    "\n",
    "predictions = best_model.predict(X_test)\n",
    "\n",
    "r2 = r2_score(y_test, predictions)\n",
    "mse = mean_squared_error(y_test, predictions)\n",
    "mae = mean_absolute_error(y_test, predictions)\n",
    "\n",
    "print(\"R² Score:\", r2)\n",
    "print(\"MSE:\", mse)\n",
    "print(\"MAE:\", mae)\n",
    "\n",
    "print()"
   ]
  },
  {
   "cell_type": "code",
   "execution_count": null,
   "metadata": {
    "colab": {
     "base_uri": "https://localhost:8080/",
     "height": 471
    },
    "executionInfo": {
     "elapsed": 1529,
     "status": "ok",
     "timestamp": 1741431413768,
     "user": {
      "displayName": "Wafic Alayli",
      "userId": "07899968617561207057"
     },
     "user_tz": -120
    },
    "id": "81MXx0z-9MqI",
    "outputId": "02f46292-42bf-43a9-c860-c53cee90be9b"
   },
   "outputs": [],
   "source": [
    "import matplotlib.pyplot as plt\n",
    "\n",
    "plt.figure(figsize=(20, 6))\n",
    "plt.plot(range(200), y_test[:200], label='Real Values', marker='o')\n",
    "plt.plot(range(200), predictions[:200], label='Predictions', marker='x')\n",
    "plt.xlabel('Example')\n",
    "plt.ylabel('Value')\n",
    "plt.title('Prediction vs Real Value (First 200 Examples)')\n",
    "plt.legend()\n",
    "plt.grid(True)\n",
    "plt.show()"
   ]
  },
  {
   "cell_type": "code",
   "execution_count": null,
   "metadata": {
    "colab": {
     "base_uri": "https://localhost:8080/",
     "height": 162
    },
    "executionInfo": {
     "elapsed": 11,
     "status": "error",
     "timestamp": 1741432129081,
     "user": {
      "displayName": "Wafic Alayli",
      "userId": "07899968617561207057"
     },
     "user_tz": -120
    },
    "id": "pmtbD-qEZXyV",
    "outputId": "2a0c561c-a235-4ed4-ea01-fcf3e57cc93e"
   },
   "outputs": [],
   "source": [
    "example = scaler.data_max_\n",
    "print(example)"
   ]
  },
  {
   "cell_type": "code",
   "execution_count": null,
   "metadata": {
    "executionInfo": {
     "elapsed": 22,
     "status": "ok",
     "timestamp": 1741432026519,
     "user": {
      "displayName": "Wafic Alayli",
      "userId": "07899968617561207057"
     },
     "user_tz": -120
    },
    "id": "qQZ2BXz1baVh"
   },
   "outputs": [],
   "source": [
    "new = 'data' #Dataframe\n",
    "\n",
    "scaler = 'import' #importing the scale\n",
    "model = 'import' #importing the model\n",
    "\n"
   ]
  }
 ],
 "metadata": {
  "colab": {
   "authorship_tag": "ABX9TyOO8wDfB1dBuNPZ91VeCBcY",
   "provenance": []
  },
  "kernelspec": {
   "display_name": "Python 3",
   "name": "python3"
  },
  "language_info": {
   "name": "python"
  }
 },
 "nbformat": 4,
 "nbformat_minor": 0
}
