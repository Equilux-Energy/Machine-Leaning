{
 "cells": [
  {
   "cell_type": "code",
   "execution_count": null,
   "metadata": {
    "executionInfo": {
     "elapsed": 16,
     "status": "ok",
     "timestamp": 1740350142676,
     "user": {
      "displayName": "Wafic Alayli",
      "userId": "07899968617561207057"
     },
     "user_tz": -120
    },
    "id": "chHjiD8qWvcB"
   },
   "outputs": [],
   "source": [
    "import numpy as np\n",
    "import pandas as pd\n",
    "import matplotlib.pyplot as plt\n",
    "import seaborn as sns\n",
    "from datetime import datetime\n",
    "from sklearn.preprocessing import MinMaxScaler\n",
    "from sklearn.model_selection import train_test_split\n",
    "from sklearn.ensemble import RandomForestRegressor\n",
    "from sklearn.metrics import root_mean_squared_error, mean_absolute_error\n",
    "from sklearn.model_selection import GridSearchCV"
   ]
  },
  {
   "cell_type": "code",
   "execution_count": null,
   "metadata": {
    "colab": {
     "base_uri": "https://localhost:8080/",
     "height": 474
    },
    "executionInfo": {
     "elapsed": 44,
     "status": "ok",
     "timestamp": 1740350143840,
     "user": {
      "displayName": "Wafic Alayli",
      "userId": "07899968617561207057"
     },
     "user_tz": -120
    },
    "id": "wx-OwI892Acs",
    "outputId": "f73f65b4-8d06-4cec-efc2-70685d3db598"
   },
   "outputs": [],
   "source": [
    "file_path = \"Solar Power Plant Data.csv\"\n",
    "dtypes = {\n",
    "  'Date-Hour': str,\n",
    "  'WindSpeed': float,\n",
    "  'Sunshine': float,\n",
    "  'AirPressure': float,\n",
    "  'Radiation': float,\n",
    "  'AirTemperature': float,\n",
    "  'RelativeAirHumidity': float,\n",
    "  'SystemProduction': float,\n",
    "}\n",
    "\n",
    "try:\n",
    "  df = pd.read_csv(file_path, sep=',', dtype=dtypes, na_values=['nan','?'])\n",
    "except FileNotFoundError:\n",
    "  print(f\"Error: File not found at {file_path}. Please check the file path.\")\n",
    "  df = None\n",
    "\n",
    "df = df.rename(columns={'Date-Hour(NMT)': 'Date-Time'})\n",
    "\n",
    "\n",
    "df.info()\n",
    "df.head()"
   ]
  },
  {
   "cell_type": "code",
   "execution_count": null,
   "metadata": {
    "colab": {
     "base_uri": "https://localhost:8080/",
     "height": 528
    },
    "executionInfo": {
     "elapsed": 76,
     "status": "ok",
     "timestamp": 1740350143919,
     "user": {
      "displayName": "Wafic Alayli",
      "userId": "07899968617561207057"
     },
     "user_tz": -120
    },
    "id": "axp1YFCf3C6k",
    "outputId": "8e52a81d-a26a-49ae-ed13-6e6598be1aa5"
   },
   "outputs": [],
   "source": [
    "if df is not None:\n",
    "  df['Date-Time'] = pd.to_datetime(df['Date-Time'], format='%d.%m.%Y-%H:%M')\n",
    "  df['Day'] = df['Date-Time'].dt.day\n",
    "  df['Month'] = df['Date-Time'].dt.month\n",
    "  df['Hour'] = df['Date-Time'].dt.hour\n",
    "\n",
    "\n",
    "df.info()\n",
    "df.head()"
   ]
  },
  {
   "cell_type": "code",
   "execution_count": null,
   "metadata": {
    "colab": {
     "base_uri": "https://localhost:8080/",
     "height": 206
    },
    "executionInfo": {
     "elapsed": 34,
     "status": "ok",
     "timestamp": 1740350143954,
     "user": {
      "displayName": "Wafic Alayli",
      "userId": "07899968617561207057"
     },
     "user_tz": -120
    },
    "id": "HlpOZ6yf4e8D",
    "outputId": "922432c3-df34-4c71-9b52-bd4e5b21781c"
   },
   "outputs": [],
   "source": [
    "if df is not None:\n",
    "  cols_to_move = ['Day', 'Month', 'Hour']\n",
    "  new_columns = cols_to_move + [col for col in df.columns if col not in cols_to_move and col != 'Date-Time']\n",
    "  df = df[new_columns]\n",
    "df.head()"
   ]
  },
  {
   "cell_type": "code",
   "execution_count": null,
   "metadata": {
    "colab": {
     "base_uri": "https://localhost:8080/",
     "height": 424
    },
    "executionInfo": {
     "elapsed": 50,
     "status": "ok",
     "timestamp": 1740350144004,
     "user": {
      "displayName": "Wafic Alayli",
      "userId": "07899968617561207057"
     },
     "user_tz": -120
    },
    "id": "p9PIECyb52rb",
    "outputId": "ab587bb8-a4c1-443d-badf-b4ee8a042f1b"
   },
   "outputs": [],
   "source": [
    "if df is not None:\n",
    "  max_production = df['SystemProduction'].max()\n",
    "  df['SystemProduction'] = df['SystemProduction'] / max_production\n",
    "\n",
    "df"
   ]
  },
  {
   "cell_type": "code",
   "execution_count": null,
   "metadata": {
    "colab": {
     "base_uri": "https://localhost:8080/",
     "height": 206
    },
    "executionInfo": {
     "elapsed": 61,
     "status": "ok",
     "timestamp": 1740350144060,
     "user": {
      "displayName": "Wafic Alayli",
      "userId": "07899968617561207057"
     },
     "user_tz": -120
    },
    "id": "GJ3-OCjF8b5y",
    "outputId": "9f1d799a-8a17-4c72-aeeb-caaa596a2f28"
   },
   "outputs": [],
   "source": [
    "needs_scaling = [ 'WindSpeed', 'Sunshine', 'AirPressure', 'Radiation', 'AirTemperature', 'RelativeAirHumidity']\n",
    "scaler = MinMaxScaler()\n",
    "df[needs_scaling] = scaler.fit_transform(df[needs_scaling])\n",
    "df.head()"
   ]
  },
  {
   "cell_type": "code",
   "execution_count": null,
   "metadata": {
    "colab": {
     "base_uri": "https://localhost:8080/",
     "height": 746
    },
    "executionInfo": {
     "elapsed": 793,
     "status": "ok",
     "timestamp": 1740350144854,
     "user": {
      "displayName": "Wafic Alayli",
      "userId": "07899968617561207057"
     },
     "user_tz": -120
    },
    "id": "CNLpWhNL8bVE",
    "outputId": "568704c1-08cf-4dd2-e5f4-6e5524df4b2c"
   },
   "outputs": [],
   "source": [
    "corr_mat=df.corr()\n",
    "plt.figure(figsize=(15,7))\n",
    "sns.heatmap(corr_mat, annot=True, fmt=\".3f\", cmap='coolwarm')\n",
    "plt.title('Correlation Heatmap')\n",
    "plt.show()"
   ]
  },
  {
   "cell_type": "code",
   "execution_count": null,
   "metadata": {
    "colab": {
     "base_uri": "https://localhost:8080/"
    },
    "executionInfo": {
     "elapsed": 3,
     "status": "ok",
     "timestamp": 1740350144858,
     "user": {
      "displayName": "Wafic Alayli",
      "userId": "07899968617561207057"
     },
     "user_tz": -120
    },
    "id": "yf65LuXQ6aL0",
    "outputId": "f4c451c7-87fb-48c9-8309-ba986f01ccd7"
   },
   "outputs": [],
   "source": [
    "###########################################\n",
    "# Saving the processed dataset #\n",
    "###########################################\n",
    "\n",
    "import os\n",
    "import joblib\n",
    "\n",
    "drive_save_dir = ''\n",
    "\n",
    "os.makedirs(drive_save_dir, exist_ok=True)\n",
    "\n",
    "# Save the scaler\n",
    "scaler_path = os.path.join(drive_save_dir, 'production_scaler.pkl')\n",
    "joblib.dump(scaler, scaler_path)\n",
    "\n",
    "# Save the DataFrame\n",
    "df_path = os.path.join(drive_save_dir, 'production_dataset.csv')\n",
    "df.to_csv(df_path)\n",
    "\n",
    "print(f\"DataFrame saved to: {df_path}\")\n",
    "\n"
   ]
  }
 ],
 "metadata": {
  "colab": {
   "authorship_tag": "ABX9TyMhBk1Xq2WhDg43adRqIBFs",
   "provenance": []
  },
  "kernelspec": {
   "display_name": "Python 3",
   "name": "python3"
  },
  "language_info": {
   "name": "python"
  }
 },
 "nbformat": 4,
 "nbformat_minor": 0
}
