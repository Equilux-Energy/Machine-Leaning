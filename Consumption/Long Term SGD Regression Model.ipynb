{
 "cells": [
  {
   "cell_type": "code",
   "execution_count": null,
   "metadata": {
    "colab": {
     "base_uri": "https://localhost:8080/"
    },
    "executionInfo": {
     "elapsed": 3349,
     "status": "ok",
     "timestamp": 1739733764924,
     "user": {
      "displayName": "Wafic Alayli",
      "userId": "07899968617561207057"
     },
     "user_tz": -120
    },
    "id": "bhu0Mwy4IDW2",
    "outputId": "e72c16c8-1921-4a53-c571-89ce139544b3"
   },
   "outputs": [],
   "source": [
    "pip install meteostat"
   ]
  },
  {
   "cell_type": "code",
   "execution_count": null,
   "metadata": {
    "executionInfo": {
     "elapsed": 5,
     "status": "ok",
     "timestamp": 1739733764925,
     "user": {
      "displayName": "Wafic Alayli",
      "userId": "07899968617561207057"
     },
     "user_tz": -120
    },
    "id": "9Lg8lhgeIVxC"
   },
   "outputs": [],
   "source": [
    "import joblib\n",
    "import pandas as pd\n",
    "import numpy as np\n",
    "import matplotlib.pyplot as plt\n",
    "from meteostat import Point, Daily\n",
    "from sklearn.linear_model import SGDRegressor\n",
    "from sklearn.model_selection import train_test_split\n",
    "\n",
    "from sklearn.metrics import accuracy_score\n",
    "from sklearn.metrics import r2_score\n",
    "from sklearn.metrics import mean_squared_error\n",
    "from sklearn.metrics import mean_absolute_error\n",
    "\n",
    "from sklearn.impute import SimpleImputer\n",
    "from sklearn.model_selection import GridSearchCV\n",
    "from sklearn.pipeline import make_pipeline\n",
    "from sklearn.preprocessing import StandardScaler\n",
    "from datetime import datetime\n",
    "from google.colab import files"
   ]
  },
  {
   "cell_type": "code",
   "execution_count": null,
   "metadata": {
    "colab": {
     "base_uri": "https://localhost:8080/",
     "height": 367
    },
    "executionInfo": {
     "elapsed": 1073,
     "status": "ok",
     "timestamp": 1739733776022,
     "user": {
      "displayName": "Wafic Alayli",
      "userId": "07899968617561207057"
     },
     "user_tz": -120
    },
    "id": "S4Etzv6UKsIK",
    "outputId": "64fc968e-4364-4078-d0ad-c1d85d3085cb"
   },
   "outputs": [],
   "source": [
    "scaler = joblib.load('long_term_scaler.pkl')\n",
    "print(\"Scaler loaded \\n\\n\")\n",
    "\n",
    "df = pd.read_csv('long_term_consumption.csv')\n",
    "df.drop(columns=['Unnamed: 0', 'Year'], inplace=True)\n",
    "df = df.dropna()\n",
    "\n",
    "df.head()"
   ]
  },
  {
   "cell_type": "code",
   "execution_count": null,
   "metadata": {
    "colab": {
     "base_uri": "https://localhost:8080/"
    },
    "executionInfo": {
     "elapsed": 8204,
     "status": "ok",
     "timestamp": 1739733784224,
     "user": {
      "displayName": "Wafic Alayli",
      "userId": "07899968617561207057"
     },
     "user_tz": -120
    },
    "id": "BiCaAyg7MIB1",
    "outputId": "e80b5ffb-c75b-4b7c-b020-2784c15f08f4"
   },
   "outputs": [],
   "source": [
    "feature_columns = ['tavg', 'tmin', 'tmax', 'prcp', 'wdir', 'wspd',\n",
    "       'pres', 'Month', 'Day', 'Day_of_week',\n",
    "      'previousDay', 'previous2Day','previous3Day','previous4Day','previous5Day','previous6Day','previous7Day']\n",
    "\n",
    "scaler_columns = ['tavg', 'tmin', 'tmax', 'prcp', 'wdir', 'wspd',\n",
    "       'pres', 'previousDay', 'previous2Day',\n",
    "       'previous3Day','previous4Day','previous5Day','previous6Day','previous7Day']\n",
    "\n",
    "X = df[feature_columns]\n",
    "y = df['Daily_Energy_kWh']\n",
    "\n",
    "X_train, X_test, y_train, y_test = train_test_split(X, y, test_size=0.2, shuffle=True, random_state=42)\n",
    "\n",
    "sgd_model = SGDRegressor(random_state=42, warm_start=True)\n",
    "\n",
    "param_grid = {\n",
    "    'alpha': [0.01],\n",
    "    'eta0': [0.001],\n",
    "    'penalty': ['l1'],\n",
    "    'l1_ratio': [0.15],\n",
    "    'max_iter': [5000],\n",
    "    'tol': [1e-6],\n",
    "    'learning_rate': ['adaptive'],\n",
    "    'power_t': [0.25]\n",
    "}\n",
    "\n",
    "\n",
    "\n",
    "grid_search = GridSearchCV(sgd_model, param_grid, cv=5, scoring='r2', n_jobs=-1)\n",
    "grid_search.fit(X_train, y_train)\n",
    "\n",
    "best_model = grid_search.best_estimator_\n",
    "\n",
    "print(\"Best Parameters from GridSearchCV:\", grid_search.best_params_)\n"
   ]
  },
  {
   "cell_type": "code",
   "execution_count": null,
   "metadata": {
    "colab": {
     "base_uri": "https://localhost:8080/"
    },
    "executionInfo": {
     "elapsed": 4,
     "status": "ok",
     "timestamp": 1739733784224,
     "user": {
      "displayName": "Wafic Alayli",
      "userId": "07899968617561207057"
     },
     "user_tz": -120
    },
    "id": "qXlI6DcImOBS",
    "outputId": "b2e7c3b2-0df4-4f83-b2f5-18eb3599196d"
   },
   "outputs": [],
   "source": [
    "batch_size = 2000\n",
    "n_batches = len(X_train) // batch_size\n",
    "\n",
    "for i in range(n_batches):\n",
    "    start_idx = i * batch_size\n",
    "    end_idx = start_idx + batch_size\n",
    "    X_batch = X_train.iloc[start_idx:end_idx]\n",
    "    y_batch = y_train.iloc[start_idx:end_idx]\n",
    "\n",
    "    X_batch = X_batch[feature_columns]\n",
    "\n",
    "    best_model.partial_fit(X_batch[feature_columns], y_batch) \n",
    "    print(f\"Batch {i+1}/{n_batches} fitted\")\n",
    "\n",
    "\n",
    "predictions = best_model.predict(X_test)\n",
    "\n",
    "r2 = r2_score(y_test, predictions)\n",
    "mse = mean_squared_error(y_test, predictions)\n",
    "mae = mean_absolute_error(y_test, predictions)\n",
    "\n",
    "print(\"R² Score:\", r2)\n",
    "print(\"MSE:\", mse)\n",
    "print(\"MAE:\", mae)\n",
    "\n",
    "print()"
   ]
  },
  {
   "cell_type": "code",
   "execution_count": null,
   "metadata": {
    "colab": {
     "background_save": true
    },
    "id": "QpCSr8KO6hFt"
   },
   "outputs": [],
   "source": [
    "import matplotlib.pyplot as plt\n",
    "\n",
    "plt.figure(figsize=(20, 6))\n",
    "plt.plot(range(200), y_test[:200], label='Real Values', marker='o')\n",
    "plt.plot(range(200), predictions[:200], label='Predictions', marker='x')\n",
    "plt.xlabel('Example')\n",
    "plt.ylabel('Value')\n",
    "plt.title('Prediction vs Real Value (First 200 Examples)')\n",
    "plt.legend()\n",
    "plt.grid(True)\n",
    "plt.show()\n"
   ]
  },
  {
   "cell_type": "code",
   "execution_count": null,
   "metadata": {
    "colab": {
     "background_save": true
    },
    "id": "pBHgR4s3Mg3x"
   },
   "outputs": [],
   "source": [
    "import joblib\n",
    "\n",
    "joblib.dump(best_model, 'long_term_consumption_model.pkl')\n",
    "print(\"Model saved\")"
   ]
  }
 ],
 "metadata": {
  "colab": {
   "name": "",
   "version": ""
  },
  "kernelspec": {
   "display_name": "Python 3",
   "name": "python3"
  },
  "language_info": {
   "name": "python"
  }
 },
 "nbformat": 4,
 "nbformat_minor": 0
}
