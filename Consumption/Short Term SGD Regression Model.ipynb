{
 "cells": [
  {
   "cell_type": "code",
   "execution_count": null,
   "metadata": {
    "colab": {
     "base_uri": "https://localhost:8080/"
    },
    "executionInfo": {
     "elapsed": 2206,
     "status": "ok",
     "timestamp": 1740350244286,
     "user": {
      "displayName": "Wafic Alayli",
      "userId": "07899968617561207057"
     },
     "user_tz": -120
    },
    "id": "bhu0Mwy4IDW2",
    "outputId": "961a5b41-c8a0-4dbc-90ea-4a9cdbfde75e"
   },
   "outputs": [],
   "source": [
    "pip install meteostat"
   ]
  },
  {
   "cell_type": "code",
   "execution_count": null,
   "metadata": {
    "colab": {
     "base_uri": "https://localhost:8080/",
     "height": 365
    },
    "executionInfo": {
     "elapsed": 2063,
     "status": "error",
     "timestamp": 1740350246355,
     "user": {
      "displayName": "Wafic Alayli",
      "userId": "07899968617561207057"
     },
     "user_tz": -120
    },
    "id": "9Lg8lhgeIVxC",
    "outputId": "6efab75c-2a92-4dea-ee10-9263ee2ea183"
   },
   "outputs": [],
   "source": [
    "import joblib\n",
    "import pandas as pd\n",
    "import numpy as np\n",
    "import matplotlib.pyplot as plt\n",
    "from meteostat import Point, Daily\n",
    "from sklearn.linear_model import SGDRegressor\n",
    "from sklearn.model_selection import train_test_split\n",
    "\n",
    "from sklearn.metrics import accuracy_score\n",
    "from sklearn.metrics import r2_score\n",
    "from sklearn.metrics import mean_squared_error\n",
    "from sklearn.metrics import mean_absolute_error\n",
    "\n",
    "from sklearn.impute import SimpleImputer\n",
    "from sklearn.model_selection import GridSearchCV\n",
    "from sklearn.pipeline import make_pipeline\n",
    "from sklearn.preprocessing import StandardScaler\n",
    "from datetime import datetime"
   ]
  },
  {
   "cell_type": "code",
   "execution_count": null,
   "metadata": {
    "executionInfo": {
     "elapsed": 4339,
     "status": "aborted",
     "timestamp": 1740350246346,
     "user": {
      "displayName": "Wafic Alayli",
      "userId": "07899968617561207057"
     },
     "user_tz": -120
    },
    "id": "S4Etzv6UKsIK"
   },
   "outputs": [],
   "source": [
    "scaler = joblib.load('short_term_scaler.pkl')\n",
    "print(\"Scaler loaded \\n\\n\")\n",
    "\n",
    "df = pd.read_csv('short_term_consumption.csv')\n",
    "df = df.dropna()\n",
    "df.head()"
   ]
  },
  {
   "cell_type": "code",
   "execution_count": null,
   "metadata": {
    "executionInfo": {
     "elapsed": 29,
     "status": "aborted",
     "timestamp": 1740350246410,
     "user": {
      "displayName": "Wafic Alayli",
      "userId": "07899968617561207057"
     },
     "user_tz": -120
    },
    "id": "BiCaAyg7MIB1"
   },
   "outputs": [],
   "source": [
    "feature_columns = ['temp','dwpt', 'rhum', 'prcp', 'wdir', 'wspd', 'pres', 'Month', 'Day', 'Hour', 'Day_of_week', 'previous1hr', 'previous2hr', 'previous3hr']\n",
    "scaler_columns = ['temp','dwpt', 'rhum', 'prcp', 'wdir', 'wspd', 'pres', 'previous1hr', 'previous2hr', 'previous3hr']\n",
    "X = df[feature_columns]\n",
    "y = df['Global_active_power']\n",
    "\n",
    "X_train, X_test, y_train, y_test = train_test_split(X, y, test_size=0.2, random_state=42)\n",
    "\n",
    "sgd_model = SGDRegressor(random_state=42, warm_start=True)\n",
    "\n",
    "param_grid = {\n",
    "    'alpha': [0.001],\n",
    "    'eta0': [0.001],\n",
    "    'penalty': ['l2'],\n",
    "    'max_iter': [5000],\n",
    "    'tol': [1e-5,],\n",
    "    'power_t': [0.25]\n",
    "}\n",
    "\n",
    "\n",
    "\n",
    "grid_search = GridSearchCV(sgd_model, param_grid, cv=5, scoring='r2', n_jobs=-1)\n",
    "grid_search.fit(X_train, y_train)\n",
    "\n",
    "best_model = grid_search.best_estimator_\n",
    "\n",
    "print(\"Best Parameters from GridSearchCV:\", grid_search.best_params_)\n"
   ]
  },
  {
   "cell_type": "code",
   "execution_count": null,
   "metadata": {
    "executionInfo": {
     "elapsed": 51,
     "status": "aborted",
     "timestamp": 1740350246435,
     "user": {
      "displayName": "Wafic Alayli",
      "userId": "07899968617561207057"
     },
     "user_tz": -120
    },
    "id": "qXlI6DcImOBS"
   },
   "outputs": [],
   "source": [
    "batch_size = 2000\n",
    "n_batches = len(X_train) // batch_size\n",
    "\n",
    "for i in range(n_batches):\n",
    "    start_idx = i * batch_size\n",
    "    end_idx = start_idx + batch_size\n",
    "    X_batch = X_train.iloc[start_idx:end_idx]\n",
    "    y_batch = y_train.iloc[start_idx:end_idx]\n",
    "\n",
    "    X_batch = X_batch[feature_columns]\n",
    "\n",
    "    best_model.partial_fit(X_batch[feature_columns], y_batch) \n",
    "    print(f\"Batch {i+1}/{n_batches} fitted\")\n",
    "\n",
    "\n",
    "predictions = best_model.predict(X_test)\n",
    "\n",
    "r2 = r2_score(y_test, predictions)\n",
    "mse = mean_squared_error(y_test, predictions)\n",
    "mae = mean_absolute_error(y_test, predictions)\n",
    "\n",
    "print(\"R² Score:\", r2)\n",
    "print(\"MSE:\", mse)\n",
    "print(\"MAE:\", mae)\n",
    "\n",
    "print()"
   ]
  },
  {
   "cell_type": "code",
   "execution_count": null,
   "metadata": {
    "executionInfo": {
     "elapsed": 45,
     "status": "aborted",
     "timestamp": 1740350246438,
     "user": {
      "displayName": "Wafic Alayli",
      "userId": "07899968617561207057"
     },
     "user_tz": -120
    },
    "id": "QpCSr8KO6hFt"
   },
   "outputs": [],
   "source": [
    "import matplotlib.pyplot as plt\n",
    "\n",
    "plt.figure(figsize=(20, 6))\n",
    "plt.plot(range(200), y_test[:200], label='Real Values', marker='o')\n",
    "plt.plot(range(200), predictions[:200], label='Predictions', marker='x')\n",
    "plt.xlabel('Example')\n",
    "plt.ylabel('Value')\n",
    "plt.title('Prediction vs Real Value (First 200 Examples)')\n",
    "plt.legend()\n",
    "plt.grid(True)\n",
    "plt.show()\n"
   ]
  },
  {
   "cell_type": "code",
   "execution_count": null,
   "metadata": {},
   "outputs": [],
   "source": [
    "import joblib\n",
    "\n",
    "joblib.dump(best_model, 'short_term_consumption_model.pkl')\n",
    "print(\"Model saved\")"
   ]
  }
 ],
 "metadata": {
  "colab": {
   "provenance": []
  },
  "kernelspec": {
   "display_name": "Python 3",
   "name": "python3"
  },
  "language_info": {
   "codemirror_mode": {
    "name": "ipython",
    "version": 3
   },
   "file_extension": ".py",
   "mimetype": "text/x-python",
   "name": "python",
   "nbconvert_exporter": "python",
   "pygments_lexer": "ipython3",
   "version": "3.12.3"
  }
 },
 "nbformat": 4,
 "nbformat_minor": 0
}
