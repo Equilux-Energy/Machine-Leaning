{
 "cells": [
  {
   "cell_type": "code",
   "execution_count": null,
   "metadata": {
    "colab": {
     "base_uri": "https://localhost:8080/"
    },
    "executionInfo": {
     "elapsed": 1519,
     "status": "ok",
     "timestamp": 1739646592176,
     "user": {
      "displayName": "Wafic Alayli",
      "userId": "07899968617561207057"
     },
     "user_tz": -120
    },
    "id": "Dwi7XpWxTt_f",
    "outputId": "be50fb99-fcc3-4801-e10f-fa16698be2e4"
   },
   "outputs": [],
   "source": [
    "pip install meteostat"
   ]
  },
  {
   "cell_type": "markdown",
   "metadata": {
    "id": "tZTp8k-Y_5dy"
   },
   "source": [
    "# Data Preprocessing and Feature Engineering"
   ]
  },
  {
   "cell_type": "code",
   "execution_count": null,
   "metadata": {
    "id": "jEIA4xoB12Fh"
   },
   "outputs": [],
   "source": [
    "import numpy as np\n",
    "import pandas as pd\n",
    "import matplotlib.pyplot as plt\n",
    "import seaborn as sns\n",
    "from datetime import datetime\n",
    "from sklearn.preprocessing import MinMaxScaler\n",
    "from sklearn.model_selection import train_test_split\n",
    "from sklearn.ensemble import RandomForestRegressor\n",
    "from sklearn.metrics import root_mean_squared_error, mean_absolute_error\n",
    "from sklearn.model_selection import GridSearchCV\n"
   ]
  },
  {
   "cell_type": "markdown",
   "metadata": {
    "id": "wnvLqVpvANNa"
   },
   "source": [
    "## Getting consumption Dataframe\n"
   ]
  },
  {
   "cell_type": "code",
   "execution_count": null,
   "metadata": {
    "colab": {
     "base_uri": "https://localhost:8080/",
     "height": 424
    },
    "executionInfo": {
     "elapsed": 3914,
     "status": "ok",
     "timestamp": 1739646597492,
     "user": {
      "displayName": "Wafic Alayli",
      "userId": "07899968617561207057"
     },
     "user_tz": -120
    },
    "id": "uBlx2CeBMJv3",
    "outputId": "43485fbd-f7c4-4e23-8c60-194a22d8a361"
   },
   "outputs": [],
   "source": [
    "file_path = \"household_power_consumption.csv\"\n",
    "dtypes = {\n",
    "  'Date': str,\n",
    "  'Time': str,\n",
    "  'Global_active_power': float,\n",
    "  'Global_reactive_power': float,\n",
    "  'Voltage': float,\n",
    "  'Global_intensity': float,\n",
    "  'Sub_metering_1': float,\n",
    "  'Sub_metering_2': float,\n",
    "  'Sub_metering_3': float\n",
    "}\n",
    "\n",
    "try:\n",
    "  df_cons = pd.read_csv(file_path, sep=';', dtype=dtypes, na_values=['nan','?'])\n",
    "except FileNotFoundError:\n",
    "  print(f\"Error: File not found at {file_path}. Please check the file path.\")\n",
    "  df_cons = None\n",
    "\n",
    "df_cons['Datetime'] = pd.to_datetime(df_cons['Date'] , format='%d/%m/%Y')\n",
    "\n",
    "df_cons.drop(columns=['Date', 'Time'], inplace=True)\n",
    "\n",
    "df_cons.dropna(inplace=True)\n",
    "\n",
    "df_cons['Energy_kWh'] = df_cons['Global_active_power'] * (1 / 60)\n",
    "\n",
    "daily_energy = df_cons.groupby(df_cons['Datetime'].dt.date)['Energy_kWh'].sum()\n",
    "\n",
    "df_daily_energy = pd.DataFrame({'Date': daily_energy.index, 'Daily_Energy_kWh': daily_energy.values})\n",
    "\n",
    "df_daily_energy['Date'] = pd.to_datetime(df_daily_energy['Date'], format='%d/%m/%Y')\n",
    "\n",
    "df_daily_energy"
   ]
  },
  {
   "cell_type": "code",
   "execution_count": null,
   "metadata": {
    "colab": {
     "base_uri": "https://localhost:8080/",
     "height": 794
    },
    "executionInfo": {
     "elapsed": 7,
     "status": "ok",
     "timestamp": 1739646597493,
     "user": {
      "displayName": "Wafic Alayli",
      "userId": "07899968617561207057"
     },
     "user_tz": -120
    },
    "id": "rht1zcFF6ZK2",
    "outputId": "d615bfb5-9043-4767-9f4f-ad5d7f29efca"
   },
   "outputs": [],
   "source": [
    "from datetime import datetime\n",
    "from meteostat import Hourly, Point\n",
    "from meteostat import Stations, Daily\n",
    "\n",
    "# Set time period\n",
    "start = datetime(2006,12,16, 17,27,00)\n",
    "end = datetime(2010, 12, 31, 23, 59)\n",
    "sceaux= Point(48.7943, 2.2715)\n",
    "\n",
    "# Get hourly data\n",
    "df_weather = Daily(sceaux, start, end)\n",
    "df_weather = df_weather.fetch()\n",
    "df_weather['time'] = df_weather.index\n",
    "df_weather['time'] = pd.to_datetime(df_weather['time'])\n",
    "df_weather.info()\n",
    "df_weather"
   ]
  },
  {
   "cell_type": "code",
   "execution_count": null,
   "metadata": {
    "colab": {
     "base_uri": "https://localhost:8080/",
     "height": 455
    },
    "executionInfo": {
     "elapsed": 6,
     "status": "ok",
     "timestamp": 1739646597493,
     "user": {
      "displayName": "Wafic Alayli",
      "userId": "07899968617561207057"
     },
     "user_tz": -120
    },
    "id": "s9uMiPCv-W9A",
    "outputId": "016df145-eeb4-4ce0-8386-2f54980b1751"
   },
   "outputs": [],
   "source": [
    "df_weather['Year'] = df_weather['time'].dt.year\n",
    "df_weather['Month'] = df_weather['time'].dt.month\n",
    "df_weather['Day'] = df_weather['time'].dt.day\n",
    "df_weather['Day_of_week'] = df_weather['time'].dt.dayofweek #0 being monday and 6 being sunday\n",
    "df_weather.drop(columns=['time'], inplace=True)\n",
    "df_weather.isnull().sum()\n",
    "df_weather"
   ]
  },
  {
   "cell_type": "code",
   "execution_count": null,
   "metadata": {
    "colab": {
     "base_uri": "https://localhost:8080/",
     "height": 424
    },
    "executionInfo": {
     "elapsed": 6,
     "status": "ok",
     "timestamp": 1739646597493,
     "user": {
      "displayName": "Wafic Alayli",
      "userId": "07899968617561207057"
     },
     "user_tz": -120
    },
    "id": "6CEbjDa4X5RJ",
    "outputId": "fb30b255-33cf-45e3-a727-6f4df260efb8"
   },
   "outputs": [],
   "source": [
    "import pandas as pd\n",
    "df_merged = pd.merge(df_daily_energy, df_weather, left_on='Date', right_on='time')\n",
    "df_merged\n"
   ]
  },
  {
   "cell_type": "code",
   "execution_count": null,
   "metadata": {
    "colab": {
     "base_uri": "https://localhost:8080/",
     "height": 586
    },
    "executionInfo": {
     "elapsed": 5,
     "status": "ok",
     "timestamp": 1739646597493,
     "user": {
      "displayName": "Wafic Alayli",
      "userId": "07899968617561207057"
     },
     "user_tz": -120
    },
    "id": "kAJkNz-OTPJf",
    "outputId": "246d684d-5680-4637-cbc8-b7d2003b0a4e"
   },
   "outputs": [],
   "source": [
    "df_merged.dropna(subset=['Daily_Energy_kWh'], inplace=True)\n",
    "df_merged.isnull().sum()"
   ]
  },
  {
   "cell_type": "code",
   "execution_count": null,
   "metadata": {
    "colab": {
     "base_uri": "https://localhost:8080/",
     "height": 492
    },
    "executionInfo": {
     "elapsed": 246,
     "status": "ok",
     "timestamp": 1739646597734,
     "user": {
      "displayName": "Wafic Alayli",
      "userId": "07899968617561207057"
     },
     "user_tz": -120
    },
    "id": "VwWTALh6NWDB",
    "outputId": "7f34a3f1-866b-4ce8-8369-1c3aac67f571"
   },
   "outputs": [],
   "source": [
    "df_merged.drop(columns=['snow','wpgt', 'tsun'], inplace=True)\n",
    "df_merged.dropna(inplace=True)\n",
    "df_merged.isna().sum()"
   ]
  },
  {
   "cell_type": "code",
   "execution_count": null,
   "metadata": {
    "colab": {
     "base_uri": "https://localhost:8080/",
     "height": 424
    },
    "executionInfo": {
     "elapsed": 6,
     "status": "ok",
     "timestamp": 1739646597734,
     "user": {
      "displayName": "Wafic Alayli",
      "userId": "07899968617561207057"
     },
     "user_tz": -120
    },
    "id": "BTlJV1LtXHKb",
    "outputId": "7416ccff-fb15-44f1-82bd-afad13e74abd"
   },
   "outputs": [],
   "source": [
    "from scipy.stats import zscore\n",
    "\n",
    "numerical_cols = df_merged.select_dtypes(include=np.number).columns\n",
    "# Calculate z-scores for all columns\n",
    "z_scores = np.abs(zscore(df_merged[numerical_cols]))\n",
    "\n",
    "# Define a threshold for outlier detection (e.g., z-score > 3)\n",
    "threshold = 3\n",
    "\n",
    "# Identify outliers\n",
    "outliers = np.where(z_scores > threshold)\n",
    "\n",
    "# Remove rows with outliers\n",
    "df_merged = df_merged[(z_scores < 3).all(axis=1)]\n",
    "\n",
    "df_merged.describe()"
   ]
  },
  {
   "cell_type": "code",
   "execution_count": null,
   "metadata": {
    "colab": {
     "base_uri": "https://localhost:8080/"
    },
    "executionInfo": {
     "elapsed": 5,
     "status": "ok",
     "timestamp": 1739646597734,
     "user": {
      "displayName": "Wafic Alayli",
      "userId": "07899968617561207057"
     },
     "user_tz": -120
    },
    "id": "bx8si1ju48bE",
    "outputId": "082c1821-8858-4d41-df27-84a89e51c319"
   },
   "outputs": [],
   "source": [
    "df_merged.info()"
   ]
  },
  {
   "cell_type": "code",
   "execution_count": null,
   "metadata": {
    "colab": {
     "base_uri": "https://localhost:8080/",
     "height": 492
    },
    "executionInfo": {
     "elapsed": 4,
     "status": "ok",
     "timestamp": 1739646597734,
     "user": {
      "displayName": "Wafic Alayli",
      "userId": "07899968617561207057"
     },
     "user_tz": -120
    },
    "id": "8RsuuYHvhPbt",
    "outputId": "a69c7324-b353-4c5d-d27f-470120f94754"
   },
   "outputs": [],
   "source": [
    "df_merged.isna().sum()"
   ]
  },
  {
   "cell_type": "code",
   "execution_count": null,
   "metadata": {
    "colab": {
     "base_uri": "https://localhost:8080/",
     "height": 2603
    },
    "executionInfo": {
     "elapsed": 943,
     "status": "ok",
     "timestamp": 1739646598673,
     "user": {
      "displayName": "Wafic Alayli",
      "userId": "07899968617561207057"
     },
     "user_tz": -120
    },
    "id": "i7-LMwKP6HgP",
    "outputId": "8e899f4a-3051-4a57-ce9a-7b0f408efee4"
   },
   "outputs": [],
   "source": [
    "from google.colab import data_table\n",
    "\n",
    "df_merged['previousDay'] = df_merged['Daily_Energy_kWh'].shift(1)\n",
    "df_merged['previous2Day'] = df_merged['Daily_Energy_kWh'].shift(2)\n",
    "df_merged['previous3Day'] = df_merged['Daily_Energy_kWh'].shift(3)\n",
    "df_merged['previous4Day'] = df_merged['Daily_Energy_kWh'].shift(4)\n",
    "df_merged['previous5Day'] = df_merged['Daily_Energy_kWh'].shift(5)\n",
    "df_merged['previous6Day'] = df_merged['Daily_Energy_kWh'].shift(6)\n",
    "df_merged['previous7Day'] = df_merged['Daily_Energy_kWh'].shift(7)\n",
    "df_merged.info()\n",
    "df_merged\n",
    "\n",
    "data_table.DataTable(df_merged)"
   ]
  },
  {
   "cell_type": "code",
   "execution_count": null,
   "metadata": {
    "colab": {
     "base_uri": "https://localhost:8080/",
     "height": 313
    },
    "executionInfo": {
     "elapsed": 5,
     "status": "ok",
     "timestamp": 1739646598673,
     "user": {
      "displayName": "Wafic Alayli",
      "userId": "07899968617561207057"
     },
     "user_tz": -120
    },
    "id": "1kYTBfbB8tTA",
    "outputId": "a6e3845b-4b30-46b5-e03b-169ebc836a70"
   },
   "outputs": [],
   "source": [
    "df_merged.head()"
   ]
  },
  {
   "cell_type": "code",
   "execution_count": null,
   "metadata": {
    "colab": {
     "base_uri": "https://localhost:8080/",
     "height": 402
    },
    "executionInfo": {
     "elapsed": 5,
     "status": "ok",
     "timestamp": 1739646598673,
     "user": {
      "displayName": "Wafic Alayli",
      "userId": "07899968617561207057"
     },
     "user_tz": -120
    },
    "id": "3VPvrcSJXgUa",
    "outputId": "106bcd57-3339-4769-ce6d-b2503882f0ec"
   },
   "outputs": [],
   "source": [
    "needs_scaling = [ 'tavg', 'tmin', 'tmax', 'prcp', 'wdir', 'wspd',\n",
    "       'pres', 'previousDay', 'previous2Day',\n",
    "       'previous3Day','previous4Day','previous5Day','previous6Day','previous7Day']\n",
    "\n",
    "scaler = MinMaxScaler()\n",
    "df_merged[needs_scaling] = scaler.fit_transform(df_merged[needs_scaling])\n",
    "df_merged.head()"
   ]
  },
  {
   "cell_type": "code",
   "execution_count": null,
   "metadata": {
    "colab": {
     "base_uri": "https://localhost:8080/",
     "height": 736
    },
    "executionInfo": {
     "elapsed": 2124,
     "status": "ok",
     "timestamp": 1739646600794,
     "user": {
      "displayName": "Wafic Alayli",
      "userId": "07899968617561207057"
     },
     "user_tz": -120
    },
    "id": "hBcGf6-va4Lz",
    "outputId": "a3704a9a-f809-4ea3-e1c4-4f02975f84da"
   },
   "outputs": [],
   "source": [
    "corr_mat=df_merged.corr()\n",
    "plt.figure(figsize=(15,7))\n",
    "sns.heatmap(corr_mat, annot=True, fmt=\".3f\", cmap='coolwarm')\n",
    "plt.title('Correlation Heatmap')\n",
    "plt.show()"
   ]
  },
  {
   "cell_type": "code",
   "execution_count": null,
   "metadata": {
    "colab": {
     "base_uri": "https://localhost:8080/"
    },
    "executionInfo": {
     "elapsed": 4,
     "status": "ok",
     "timestamp": 1739646600794,
     "user": {
      "displayName": "Wafic Alayli",
      "userId": "07899968617561207057"
     },
     "user_tz": -120
    },
    "id": "sQ-qfjY0pJle",
    "outputId": "94df0384-5a98-4693-d85a-b898a95dd2fe"
   },
   "outputs": [],
   "source": [
    "###########################################\n",
    "# Saving the scaler and processed dataset #\n",
    "###########################################\n",
    "\n",
    "import os\n",
    "import joblib\n",
    "\n",
    "drive_save_dir = ''\n",
    "\n",
    "os.makedirs(drive_save_dir, exist_ok=True)\n",
    "\n",
    "# Save the scaler\n",
    "scaler_path = os.path.join(drive_save_dir, 'long_term_scaler.pkl')\n",
    "joblib.dump(scaler, scaler_path)\n",
    "\n",
    "# Save the DataFrame\n",
    "df_both_path = os.path.join(drive_save_dir, 'long_term_consumption.csv')\n",
    "df_merged.to_csv(df_both_path)\n",
    "\n",
    "print(f\"Scaler saved to: {scaler_path}\")\n",
    "print(f\"DataFrame saved to: {df_both_path}\")\n",
    "\n"
   ]
  }
 ],
 "metadata": {
  "accelerator": "TPU",
  "colab": {
   "gpuType": "V28",
   "provenance": []
  },
  "kernelspec": {
   "display_name": "Python 3",
   "name": "python3"
  },
  "language_info": {
   "name": "python"
  }
 },
 "nbformat": 4,
 "nbformat_minor": 0
}
