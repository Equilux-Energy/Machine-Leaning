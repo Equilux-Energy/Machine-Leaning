{
 "cells": [
  {
   "cell_type": "code",
   "execution_count": null,
   "metadata": {
    "colab": {
     "base_uri": "https://localhost:8080/"
    },
    "executionInfo": {
     "elapsed": 2331,
     "status": "ok",
     "timestamp": 1739534094819,
     "user": {
      "displayName": "Wafic Alayli",
      "userId": "07899968617561207057"
     },
     "user_tz": -120
    },
    "id": "Dwi7XpWxTt_f",
    "outputId": "95445613-f4e8-49ee-bd8e-8c2a16d2011d"
   },
   "outputs": [],
   "source": [
    "pip install meteostat\n",
    "pip install seaborn"
   ]
  },
  {
   "cell_type": "markdown",
   "metadata": {
    "id": "tZTp8k-Y_5dy"
   },
   "source": [
    "# Data Preprocessing and Feature Engineering"
   ]
  },
  {
   "cell_type": "code",
   "execution_count": null,
   "metadata": {
    "id": "jEIA4xoB12Fh"
   },
   "outputs": [],
   "source": [
    "import numpy as np\n",
    "import pandas as pd\n",
    "import matplotlib.pyplot as plt\n",
    "import seaborn as sns\n",
    "from datetime import datetime\n",
    "from sklearn.preprocessing import MinMaxScaler\n",
    "from sklearn.model_selection import train_test_split\n",
    "from sklearn.ensemble import RandomForestRegressor\n",
    "from sklearn.metrics import root_mean_squared_error, mean_absolute_error\n",
    "from sklearn.model_selection import GridSearchCV\n"
   ]
  },
  {
   "cell_type": "markdown",
   "metadata": {
    "id": "wnvLqVpvANNa"
   },
   "source": [
    "## Getting consumption Dataframe\n"
   ]
  },
  {
   "cell_type": "code",
   "execution_count": null,
   "metadata": {
    "colab": {
     "base_uri": "https://localhost:8080/",
     "height": 603
    },
    "executionInfo": {
     "elapsed": 8701,
     "status": "ok",
     "timestamp": 1739534173719,
     "user": {
      "displayName": "Wafic Alayli",
      "userId": "07899968617561207057"
     },
     "user_tz": -120
    },
    "id": "uBlx2CeBMJv3",
    "outputId": "ee72e09f-797a-401d-eed5-56c42939212c"
   },
   "outputs": [],
   "source": [
    "file_path = \"household_power_consumption.csv\"\n",
    "dtypes = {\n",
    "  'Date': str,\n",
    "  'Time': str,\n",
    "  'Global_active_power': float,\n",
    "  'Global_reactive_power': float,\n",
    "  'Voltage': float,\n",
    "  'Global_intensity': float,\n",
    "  'Sub_metering_1': float,\n",
    "  'Sub_metering_2': float,\n",
    "  'Sub_metering_3': float\n",
    "}\n",
    "try:\n",
    "  df_cons = pd.read_csv(file_path, sep=';', dtype=dtypes, na_values=['nan','?'])\n",
    "except FileNotFoundError:\n",
    "  print(f\"Error: File not found at {file_path}. Please check the file path.\")\n",
    "  df_cons = None\n",
    "\n",
    "df_cons['Datetime'] = pd.to_datetime(df_cons['Date'] + ' ' + df_cons['Time'], format='%d/%m/%Y %H:%M:%S')\n",
    "\n",
    "df_cons.drop(columns=['Date', 'Time'], inplace=True)\n",
    "df_cons.info()\n",
    "df_cons.head()\n",
    "df_cons.dropna(inplace=True)\n",
    "df_cons.isna().sum()"
   ]
  },
  {
   "cell_type": "code",
   "execution_count": null,
   "metadata": {
    "colab": {
     "base_uri": "https://localhost:8080/"
    },
    "executionInfo": {
     "elapsed": 12022,
     "status": "ok",
     "timestamp": 1739534185739,
     "user": {
      "displayName": "Wafic Alayli",
      "userId": "07899968617561207057"
     },
     "user_tz": -120
    },
    "id": "rht1zcFF6ZK2",
    "outputId": "3007c699-c07e-4c40-e614-b3fc76a65fdd"
   },
   "outputs": [],
   "source": [
    "from datetime import datetime\n",
    "from meteostat import Hourly, Point\n",
    "\n",
    "# Set time period\n",
    "start = datetime(2006,12,16, 17,27,00)\n",
    "end = datetime(2010, 12, 31, 23, 59)\n",
    "sceaux= Point(48.7943, 2.2715)\n",
    "# Get hourly data\n",
    "df_weather = Hourly(sceaux, start, end)\n",
    "df_weather = df_weather.fetch()\n",
    "df_weather['time'] = df_weather.index\n",
    "df_weather['time'] = pd.to_datetime(df_weather['time'])\n",
    "df_weather.info()"
   ]
  },
  {
   "cell_type": "code",
   "execution_count": null,
   "metadata": {
    "colab": {
     "base_uri": "https://localhost:8080/",
     "height": 238
    },
    "executionInfo": {
     "elapsed": 5,
     "status": "ok",
     "timestamp": 1739534185739,
     "user": {
      "displayName": "Wafic Alayli",
      "userId": "07899968617561207057"
     },
     "user_tz": -120
    },
    "id": "s9uMiPCv-W9A",
    "outputId": "25e68b26-fea8-4201-e237-5be1ff9b2062"
   },
   "outputs": [],
   "source": [
    "df_weather['Year'] = df_weather['time'].dt.year\n",
    "df_weather['Month'] = df_weather['time'].dt.month\n",
    "df_weather['Day'] = df_weather['time'].dt.day\n",
    "df_weather['Hour'] = df_weather['time'].dt.hour\n",
    "df_cons['Minute'] = df_cons['Datetime'].dt.minute\n",
    "df_weather['Day_of_week'] = df_weather['time'].dt.dayofweek #0 being monday and 6 being sunday\n",
    "df_weather.drop(columns=['time'], inplace=True)\n",
    "df_weather.isnull().sum()\n",
    "df_weather.head()"
   ]
  },
  {
   "cell_type": "code",
   "execution_count": null,
   "metadata": {
    "colab": {
     "base_uri": "https://localhost:8080/",
     "height": 1000
    },
    "executionInfo": {
     "elapsed": 896,
     "status": "ok",
     "timestamp": 1739534186632,
     "user": {
      "displayName": "Wafic Alayli",
      "userId": "07899968617561207057"
     },
     "user_tz": -120
    },
    "id": "iRKLi8w2Swme",
    "outputId": "07d9aab5-2941-41f9-f706-3d04ca18831c"
   },
   "outputs": [],
   "source": [
    "# Merge datasets based on the datetime\n",
    "df_both = pd.merge(df_cons, df_weather, left_on='Datetime', right_on='time', how='outer')\n",
    "df_both.info()\n",
    "df_both.head()"
   ]
  },
  {
   "cell_type": "code",
   "execution_count": null,
   "metadata": {
    "colab": {
     "base_uri": "https://localhost:8080/",
     "height": 868
    },
    "executionInfo": {
     "elapsed": 5,
     "status": "ok",
     "timestamp": 1739534186632,
     "user": {
      "displayName": "Wafic Alayli",
      "userId": "07899968617561207057"
     },
     "user_tz": -120
    },
    "id": "kAJkNz-OTPJf",
    "outputId": "8829efa6-cc93-4df5-8f7f-597505639743"
   },
   "outputs": [],
   "source": [
    "df_both.dropna(subset=['Global_active_power'], inplace=True)\n",
    "df_both.isnull().sum()"
   ]
  },
  {
   "cell_type": "code",
   "execution_count": null,
   "metadata": {
    "colab": {
     "base_uri": "https://localhost:8080/",
     "height": 886
    },
    "executionInfo": {
     "elapsed": 310,
     "status": "ok",
     "timestamp": 1739534186938,
     "user": {
      "displayName": "Wafic Alayli",
      "userId": "07899968617561207057"
     },
     "user_tz": -120
    },
    "id": "RBVByB5cMqgN",
    "outputId": "4a2b7fce-ddfc-498a-9516-86662bd3301b"
   },
   "outputs": [],
   "source": [
    "df_both.fillna(method='ffill', inplace=True)\n",
    "df_both.isnull().sum()"
   ]
  },
  {
   "cell_type": "code",
   "execution_count": null,
   "metadata": {
    "colab": {
     "base_uri": "https://localhost:8080/",
     "height": 743
    },
    "executionInfo": {
     "elapsed": 280,
     "status": "ok",
     "timestamp": 1739534187216,
     "user": {
      "displayName": "Wafic Alayli",
      "userId": "07899968617561207057"
     },
     "user_tz": -120
    },
    "id": "VwWTALh6NWDB",
    "outputId": "bcf98a39-6feb-47f8-b3da-4ebfc6b3b40b"
   },
   "outputs": [],
   "source": [
    "df_both.drop(columns=['tsun','coco', 'wpgt', 'snow', ], inplace=True)\n",
    "df_both.dropna(inplace=True)\n",
    "df_both.isna().sum()"
   ]
  },
  {
   "cell_type": "code",
   "execution_count": null,
   "metadata": {
    "colab": {
     "base_uri": "https://localhost:8080/"
    },
    "executionInfo": {
     "elapsed": 280,
     "status": "ok",
     "timestamp": 1739534187493,
     "user": {
      "displayName": "Wafic Alayli",
      "userId": "07899968617561207057"
     },
     "user_tz": -120
    },
    "id": "PvMcxAB7On94",
    "outputId": "fb025807-c80a-47ce-8151-769a5366a27b"
   },
   "outputs": [],
   "source": [
    "df_both.drop(columns=['Global_reactive_power','Global_intensity', 'Voltage', 'Sub_metering_1','Sub_metering_2', 'Sub_metering_3'], inplace=True)\n",
    "df_both.info()"
   ]
  },
  {
   "cell_type": "code",
   "execution_count": null,
   "metadata": {
    "colab": {
     "base_uri": "https://localhost:8080/",
     "height": 424
    },
    "executionInfo": {
     "elapsed": 2335,
     "status": "ok",
     "timestamp": 1739534189827,
     "user": {
      "displayName": "Wafic Alayli",
      "userId": "07899968617561207057"
     },
     "user_tz": -120
    },
    "id": "BTlJV1LtXHKb",
    "outputId": "6d3aa6f2-ce54-4421-d388-11467db8ca52"
   },
   "outputs": [],
   "source": [
    "from scipy.stats import zscore\n",
    "\n",
    "numerical_cols = df_both.select_dtypes(include=np.number).columns\n",
    "# Calculate z-scores for all columns\n",
    "z_scores = np.abs(zscore(df_both[numerical_cols]))\n",
    "\n",
    "# Define a threshold for outlier detection (e.g., z-score > 3)\n",
    "threshold = 3\n",
    "\n",
    "# Identify outliers\n",
    "outliers = np.where(z_scores > threshold)\n",
    "\n",
    "# Remove rows with outliers\n",
    "df_both = df_both[(z_scores < 3).all(axis=1)]\n",
    "\n",
    "df_both.describe()"
   ]
  },
  {
   "cell_type": "code",
   "execution_count": null,
   "metadata": {
    "colab": {
     "base_uri": "https://localhost:8080/"
    },
    "executionInfo": {
     "elapsed": 2,
     "status": "ok",
     "timestamp": 1739534189827,
     "user": {
      "displayName": "Wafic Alayli",
      "userId": "07899968617561207057"
     },
     "user_tz": -120
    },
    "id": "bx8si1ju48bE",
    "outputId": "ca724487-c5c6-4e63-fd15-372a5992f235"
   },
   "outputs": [],
   "source": [
    "df_both.info()"
   ]
  },
  {
   "cell_type": "code",
   "execution_count": null,
   "metadata": {
    "id": "sfXOepHM0NP7"
   },
   "outputs": [],
   "source": [
    "df_both = df_both.set_index('Datetime')\n",
    "\n",
    "# Convert index to DatetimeIndex\n",
    "df_both.index = pd.to_datetime(df_both.index)\n",
    "\n",
    "df_resampled = df_both.resample('60min').mean()\n",
    "\n",
    "df_resampled = df_resampled.drop(columns=['Minute'])\n",
    "df_resampled = df_resampled.drop(columns=['Year'])\n",
    "\n",
    "# df_resampled = df_resampled.dropna()\n",
    "\n",
    "\n",
    "\n",
    "# df_both['energy_Wh'] = df_both['Global_active_power'] * (1000 / 60)\n",
    "# df_resampled['Global_active_power'] = (df_resampled['energy_Wh'] * (60 / 1000)) / 15\n",
    "\n",
    "# df['energy_Wh'] = df['power_kW'] * (1000 / 60)  # Convert power to energy per minute\n",
    "# df_resampled = df.resample('15T').agg({\n",
    "#     'energy_Wh': 'sum',        # Sum energy over 15 minutes\n",
    "#     'day_of_week': 'first',    # Keep the first day's value\n",
    "#     'temperature': 'mean',     # Example: average temperature over 15 minutes\n",
    "#     'voltage': 'mean',         # Example: average voltage\n",
    "# })\n",
    "\n",
    "df_both = df_resampled\n",
    "# df_both.drop(columns=['energy_Wh'], inplace=True)"
   ]
  },
  {
   "cell_type": "code",
   "execution_count": null,
   "metadata": {
    "colab": {
     "base_uri": "https://localhost:8080/",
     "height": 460
    },
    "executionInfo": {
     "elapsed": 9,
     "status": "ok",
     "timestamp": 1739534190183,
     "user": {
      "displayName": "Wafic Alayli",
      "userId": "07899968617561207057"
     },
     "user_tz": -120
    },
    "id": "8RsuuYHvhPbt",
    "outputId": "a8eaac41-ba19-423b-d4ff-e78d19db4ac9"
   },
   "outputs": [],
   "source": [
    "df_both.isna().sum()"
   ]
  },
  {
   "cell_type": "code",
   "execution_count": null,
   "metadata": {
    "colab": {
     "base_uri": "https://localhost:8080/"
    },
    "executionInfo": {
     "elapsed": 8,
     "status": "ok",
     "timestamp": 1739534190183,
     "user": {
      "displayName": "Wafic Alayli",
      "userId": "07899968617561207057"
     },
     "user_tz": -120
    },
    "id": "i7-LMwKP6HgP",
    "outputId": "708ea703-50ed-4724-ca97-a9ad8567dd96"
   },
   "outputs": [],
   "source": [
    "df_both['previous1hr'] = df_both['Global_active_power'].shift(1)\n",
    "df_both['previous2hr'] = df_both['Global_active_power'].shift(2)\n",
    "df_both['previous3hr'] = df_both['Global_active_power'].shift(3)\n",
    "# df_both.dropna(inplace=True)\n",
    "df_both.info()"
   ]
  },
  {
   "cell_type": "code",
   "execution_count": null,
   "metadata": {
    "colab": {
     "base_uri": "https://localhost:8080/",
     "height": 238
    },
    "executionInfo": {
     "elapsed": 7,
     "status": "ok",
     "timestamp": 1739534190184,
     "user": {
      "displayName": "Wafic Alayli",
      "userId": "07899968617561207057"
     },
     "user_tz": -120
    },
    "id": "1kYTBfbB8tTA",
    "outputId": "42bcc557-f6c4-44ec-8047-098698405315"
   },
   "outputs": [],
   "source": [
    "df_both.head()"
   ]
  },
  {
   "cell_type": "code",
   "execution_count": null,
   "metadata": {
    "colab": {
     "base_uri": "https://localhost:8080/",
     "height": 431
    },
    "executionInfo": {
     "elapsed": 6,
     "status": "ok",
     "timestamp": 1739534190184,
     "user": {
      "displayName": "Wafic Alayli",
      "userId": "07899968617561207057"
     },
     "user_tz": -120
    },
    "id": "3VPvrcSJXgUa",
    "outputId": "b86966d9-6c20-43d1-c598-0187cc59d07e"
   },
   "outputs": [],
   "source": [
    "needs_scaling = [ 'temp', 'dwpt', 'rhum', 'prcp', 'wdir', 'wspd',\n",
    "       'pres', 'previous1hr', 'previous2hr',\n",
    "       'previous3hr']\n",
    "scaler = MinMaxScaler()\n",
    "df_both[needs_scaling] = scaler.fit_transform(df_both[needs_scaling])\n",
    "df_both.head()"
   ]
  },
  {
   "cell_type": "code",
   "execution_count": null,
   "metadata": {
    "colab": {
     "base_uri": "https://localhost:8080/",
     "height": 751
    },
    "executionInfo": {
     "elapsed": 1144,
     "status": "ok",
     "timestamp": 1739534191323,
     "user": {
      "displayName": "Wafic Alayli",
      "userId": "07899968617561207057"
     },
     "user_tz": -120
    },
    "id": "hBcGf6-va4Lz",
    "outputId": "727a0055-4cb3-4f5c-c479-dd9e3b6c5fa6"
   },
   "outputs": [],
   "source": [
    "corr_mat=df_both.corr()\n",
    "plt.figure(figsize=(15,7))\n",
    "sns.heatmap(corr_mat, annot=True, fmt=\".3f\", cmap='coolwarm')\n",
    "plt.title('Correlation Heatmap')\n",
    "plt.show()"
   ]
  },
  {
   "cell_type": "code",
   "execution_count": null,
   "metadata": {
    "colab": {
     "base_uri": "https://localhost:8080/"
    },
    "executionInfo": {
     "elapsed": 968,
     "status": "ok",
     "timestamp": 1739534192287,
     "user": {
      "displayName": "Wafic Alayli",
      "userId": "07899968617561207057"
     },
     "user_tz": -120
    },
    "id": "sQ-qfjY0pJle",
    "outputId": "47be168f-9a76-4b42-c7cc-0a0a46abf52d"
   },
   "outputs": [],
   "source": [
    "###########################################\n",
    "# Saving the scaler and processed dataset #\n",
    "###########################################\n",
    "\n",
    "import os\n",
    "import joblib\n",
    "\n",
    "drive_save_dir = ''\n",
    "\n",
    "os.makedirs(drive_save_dir, exist_ok=True)\n",
    "\n",
    "# Save the scaler\n",
    "scaler_path = os.path.join(drive_save_dir, 'short_term_scaler.pkl')\n",
    "joblib.dump(scaler, scaler_path)\n",
    "\n",
    "# Save the DataFrame\n",
    "df_both_path = os.path.join(drive_save_dir, 'short_term_consumption.csv')\n",
    "df_both.to_csv(df_both_path)\n",
    "\n",
    "print(f\"Scaler saved to: {scaler_path}\")\n",
    "print(f\"DataFrame saved to: {df_both_path}\")\n",
    "\n"
   ]
  }
 ],
 "metadata": {
  "accelerator": "TPU",
  "colab": {
   "gpuType": "V28",
   "provenance": []
  },
  "kernelspec": {
   "display_name": "Python 3",
   "name": "python3"
  },
  "language_info": {
   "codemirror_mode": {
    "name": "ipython",
    "version": 3
   },
   "file_extension": ".py",
   "mimetype": "text/x-python",
   "name": "python",
   "nbconvert_exporter": "python",
   "pygments_lexer": "ipython3",
   "version": "3.12.3"
  }
 },
 "nbformat": 4,
 "nbformat_minor": 0
}
